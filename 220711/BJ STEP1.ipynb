{
 "cells": [
  {
   "cell_type": "code",
   "execution_count": 1,
   "id": "0d9efeb2-6f41-4587-8d9c-cdd30f0b8322",
   "metadata": {},
   "outputs": [
    {
     "name": "stdout",
     "output_type": "stream",
     "text": [
      "Hello World!\n"
     ]
    }
   ],
   "source": [
    "print(\"Hello World!\")"
   ]
  },
  {
   "cell_type": "code",
   "execution_count": 2,
   "id": "de85bfaa-96b3-47c4-8189-f09aa3ec60bd",
   "metadata": {},
   "outputs": [
    {
     "name": "stdout",
     "output_type": "stream",
     "text": [
      "강한친구 대한육군\n",
      "강한친구 대한육군\n"
     ]
    }
   ],
   "source": [
    "print(\"강한친구 대한육군\")\n",
    "print(\"강한친구 대한육군\")"
   ]
  },
  {
   "cell_type": "code",
   "execution_count": 3,
   "id": "8e936f31-35c0-42d2-b6e9-b296710e9dac",
   "metadata": {},
   "outputs": [
    {
     "name": "stdout",
     "output_type": "stream",
     "text": [
      "\\    /\\\n",
      " )  ( ')\n",
      "(  /  )\n",
      " \\(__)|\n"
     ]
    }
   ],
   "source": [
    "print(\"\\    /\\\\\")\n",
    "print(\" )  ( ')\")\n",
    "print(\"(  /  )\")\n",
    "print(\" \\(__)|\")"
   ]
  },
  {
   "cell_type": "code",
   "execution_count": 4,
   "id": "bc747ca7-dc37-41bb-aa0a-eac99bde9276",
   "metadata": {},
   "outputs": [
    {
     "name": "stdout",
     "output_type": "stream",
     "text": [
      "|\\_/|\n",
      "|q p|   /}\n",
      "( 0 )\"\"\"\\\n",
      "|\"^\"`    |\n",
      "||_/=\\\\__|\n"
     ]
    }
   ],
   "source": [
    "print(\"|\\\\_/|\")\n",
    "print(\"|q p|   /}\")\n",
    "print('( 0 )\"\"\"\\\\')\n",
    "print('|\"^\"`    |')\n",
    "print(\"||_/=\\\\\\__|\")"
   ]
  },
  {
   "cell_type": "code",
   "execution_count": 8,
   "id": "fd51a358-8d43-41b0-85f4-1917e20789ca",
   "metadata": {},
   "outputs": [
    {
     "name": "stdin",
     "output_type": "stream",
     "text": [
      " 1 2\n"
     ]
    },
    {
     "name": "stdout",
     "output_type": "stream",
     "text": [
      "3\n"
     ]
    }
   ],
   "source": [
    "a, b = map(int, input().split())\n",
    "print(a + b)"
   ]
  },
  {
   "cell_type": "code",
   "execution_count": 9,
   "id": "a4bdc7c0-f4f5-4a7e-966a-22cc18d04930",
   "metadata": {},
   "outputs": [
    {
     "name": "stdin",
     "output_type": "stream",
     "text": [
      " 3 2\n"
     ]
    },
    {
     "name": "stdout",
     "output_type": "stream",
     "text": [
      "1\n"
     ]
    }
   ],
   "source": [
    "a, b = map(int, input().split())\n",
    "print(a - b)"
   ]
  },
  {
   "cell_type": "code",
   "execution_count": 10,
   "id": "07d7378f-00a8-4b05-a7f2-3cc259f221aa",
   "metadata": {},
   "outputs": [
    {
     "name": "stdin",
     "output_type": "stream",
     "text": [
      " 3 4\n"
     ]
    },
    {
     "name": "stdout",
     "output_type": "stream",
     "text": [
      "12\n"
     ]
    }
   ],
   "source": [
    "a, b = map(int, input().split())\n",
    "print(a * b)"
   ]
  },
  {
   "cell_type": "code",
   "execution_count": 11,
   "id": "a3614304-8c85-476f-ba77-6b93a5f05346",
   "metadata": {},
   "outputs": [
    {
     "name": "stdin",
     "output_type": "stream",
     "text": [
      " 4 5\n"
     ]
    },
    {
     "name": "stdout",
     "output_type": "stream",
     "text": [
      "0.8\n"
     ]
    }
   ],
   "source": [
    "a, b = map(int, input().split())\n",
    "print(a / b)"
   ]
  },
  {
   "cell_type": "code",
   "execution_count": 13,
   "id": "c5a02e10-6213-4c8b-80a1-526c3d2bf4a0",
   "metadata": {},
   "outputs": [
    {
     "name": "stdin",
     "output_type": "stream",
     "text": [
      " 7 3\n"
     ]
    },
    {
     "name": "stdout",
     "output_type": "stream",
     "text": [
      "10\n",
      "4\n",
      "21\n",
      "2\n",
      "1\n"
     ]
    }
   ],
   "source": [
    "a, b = map(int, input().split())\n",
    "print(a + b)\n",
    "print(a - b)\n",
    "print(a * b)\n",
    "print(a // b)\n",
    "print(a % b)"
   ]
  },
  {
   "cell_type": "code",
   "execution_count": 16,
   "id": "e7a6b5fe-3d71-4013-9432-a6db6f25f51e",
   "metadata": {},
   "outputs": [
    {
     "name": "stdin",
     "output_type": "stream",
     "text": [
      " A\n"
     ]
    },
    {
     "name": "stdout",
     "output_type": "stream",
     "text": [
      "A??!\n"
     ]
    }
   ],
   "source": [
    "a = input()\n",
    "print(a+\"??!\")"
   ]
  },
  {
   "cell_type": "code",
   "execution_count": 20,
   "id": "4a5523da-7388-4ec0-8585-c9b62c8f5820",
   "metadata": {},
   "outputs": [
    {
     "name": "stdin",
     "output_type": "stream",
     "text": [
      " 2541\n"
     ]
    },
    {
     "name": "stdout",
     "output_type": "stream",
     "text": [
      "1998\n"
     ]
    }
   ],
   "source": [
    "a = int(input())\n",
    "print(a-543)"
   ]
  },
  {
   "cell_type": "code",
   "execution_count": 26,
   "id": "c4cec5e3-8d04-4ae3-b263-353e46aeef4d",
   "metadata": {
    "jp-MarkdownHeadingCollapsed": true,
    "tags": []
   },
   "outputs": [
    {
     "name": "stdin",
     "output_type": "stream",
     "text": [
      " 5 8 4\n"
     ]
    },
    {
     "name": "stdout",
     "output_type": "stream",
     "text": [
      "1\n",
      "1\n",
      "0\n",
      "0\n"
     ]
    }
   ],
   "source": [
    "a, b, c = map(int, input().split())\n",
    "print((a+b)%c)\n",
    "print(((a%c) + (b%c))%c)\n",
    "print((a*b)%c)\n",
    "print(((a%c)*(b%c))%c)"
   ]
  },
  {
   "cell_type": "code",
   "execution_count": 43,
   "id": "b4f2f211-8d01-4f32-8274-b9cb29b904d9",
   "metadata": {},
   "outputs": [
    {
     "name": "stdin",
     "output_type": "stream",
     "text": [
      " 472\n",
      " 385\n"
     ]
    },
    {
     "name": "stdout",
     "output_type": "stream",
     "text": [
      "2360\n",
      "3776\n",
      "1416\n",
      "181720\n"
     ]
    }
   ],
   "source": [
    "a = int(input())\n",
    "b = int(input())\n",
    "print(a*(b%10))\n",
    "print(a*((b%100)//10))\n",
    "print(a*(b//100))\n",
    "print(a*b)"
   ]
  },
  {
   "cell_type": "code",
   "execution_count": 40,
   "id": "778071d7-188d-4827-bbd6-b04b5f82b3a9",
   "metadata": {},
   "outputs": [
    {
     "name": "stdout",
     "output_type": "stream",
     "text": [
      "         ,r'\"7\n",
      "r`-_   ,'  ,/\n",
      " \\. \". L_r'\n",
      "   `~\\/\n",
      "      |\n",
      "      |\n"
     ]
    }
   ],
   "source": [
    "print(\"         ,r\\'\\\"7\")\n",
    "print(\"r`-_   ,\\'  ,/\")\n",
    "print(\" \\\\. \\\". L_r\\'\")\n",
    "print(\"   `~\\/\")\n",
    "print(\"      |\")\n",
    "print(\"      |\")"
   ]
  }
 ],
 "metadata": {
  "kernelspec": {
   "display_name": "Python 3 (ipykernel)",
   "language": "python",
   "name": "python3"
  },
  "language_info": {
   "codemirror_mode": {
    "name": "ipython",
    "version": 3
   },
   "file_extension": ".py",
   "mimetype": "text/x-python",
   "name": "python",
   "nbconvert_exporter": "python",
   "pygments_lexer": "ipython3",
   "version": "3.9.12"
  }
 },
 "nbformat": 4,
 "nbformat_minor": 5
}
