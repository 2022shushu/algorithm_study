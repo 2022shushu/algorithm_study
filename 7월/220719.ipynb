{
 "cells": [
  {
   "cell_type": "code",
   "execution_count": 1,
   "id": "2ce7e467-c940-499f-b4ef-728b7f479fa9",
   "metadata": {},
   "outputs": [
    {
     "name": "stdin",
     "output_type": "stream",
     "text": [
      " 123 456\n"
     ]
    },
    {
     "name": "stdout",
     "output_type": "stream",
     "text": [
      "654\n"
     ]
    }
   ],
   "source": [
    "# 2908. 상수\n",
    "A, B = map(int, input().split())\n",
    "A = (A // 100) + (((A % 100) // 10) * 10) + ((A % 10) * 100)\n",
    "B = (B // 100) + (((B % 100) // 10) * 10) + ((B % 10) * 100)\n",
    "\n",
    "if A > B :\n",
    "    print(A)\n",
    "else :\n",
    "    print(B)"
   ]
  },
  {
   "cell_type": "code",
   "execution_count": null,
   "id": "d7d1f0aa-78f0-49fa-b13a-757bad33352e",
   "metadata": {},
   "outputs": [],
   "source": []
  }
 ],
 "metadata": {
  "kernelspec": {
   "display_name": "Python 3 (ipykernel)",
   "language": "python",
   "name": "python3"
  },
  "language_info": {
   "codemirror_mode": {
    "name": "ipython",
    "version": 3
   },
   "file_extension": ".py",
   "mimetype": "text/x-python",
   "name": "python",
   "nbconvert_exporter": "python",
   "pygments_lexer": "ipython3",
   "version": "3.9.12"
  }
 },
 "nbformat": 4,
 "nbformat_minor": 5
}
