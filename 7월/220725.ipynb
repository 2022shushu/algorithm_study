{
 "cells": [
  {
   "cell_type": "code",
   "execution_count": 9,
   "id": "bda5e7de-0c49-468d-8e47-971c0cbbbc84",
   "metadata": {},
   "outputs": [
    {
     "name": "stdin",
     "output_type": "stream",
     "text": [
      " 4\n",
      " 1 3 5 7\n"
     ]
    },
    {
     "name": "stdout",
     "output_type": "stream",
     "text": [
      "3\n"
     ]
    }
   ],
   "source": [
    "# 1978. 소수 찾기\n",
    "nn = int(input())\n",
    "m_list = list(map(int, input().split()))\n",
    "y_list = [] # 약수 개수 담는 리스트\n",
    "\n",
    "# 약수 개수 함수 정의\n",
    "def sosu (n) :\n",
    "    count = 0\n",
    "    for i in range (1, n+1) :\n",
    "        if n == i :\n",
    "            count = count + 1\n",
    "        elif n % i == 0 :\n",
    "            count = count + 1\n",
    "    return count\n",
    "\n",
    "for i in range (0, len(m_list)) :\n",
    "    y_list.append(sosu(m_list[i]))\n",
    "\n",
    "print(y_list.count(2))"
   ]
  },
  {
   "cell_type": "code",
   "execution_count": 11,
   "id": "80f42114-6b19-4dc8-8949-71a22451952f",
   "metadata": {},
   "outputs": [
    {
     "name": "stdin",
     "output_type": "stream",
     "text": [
      " 64\n",
      " 65\n"
     ]
    },
    {
     "name": "stdout",
     "output_type": "stream",
     "text": [
      "-1\n"
     ]
    }
   ],
   "source": [
    "# 2581. 소수\n",
    "m = int(input())\n",
    "n = int(input())\n",
    "\n",
    "real = []\n",
    "\n",
    "def weneed(num) :\n",
    "    if num == 1 :\n",
    "        return False\n",
    "    else :\n",
    "        for i in range(2, int(num ** 0.5) +1):\n",
    "            if num % i == 0:\n",
    "                return False\n",
    "        return True\n",
    "\n",
    "for i in range(m, n+1) :\n",
    "    if weneed(i) :\n",
    "        real.append(i)\n",
    "\n",
    "if len(real) == 0 :\n",
    "    print(-1)\n",
    "else :\n",
    "    print(sum(real))\n",
    "    print(min(real))"
   ]
  }
 ],
 "metadata": {
  "kernelspec": {
   "display_name": "Python 3 (ipykernel)",
   "language": "python",
   "name": "python3"
  },
  "language_info": {
   "codemirror_mode": {
    "name": "ipython",
    "version": 3
   },
   "file_extension": ".py",
   "mimetype": "text/x-python",
   "name": "python",
   "nbconvert_exporter": "python",
   "pygments_lexer": "ipython3",
   "version": "3.9.12"
  }
 },
 "nbformat": 4,
 "nbformat_minor": 5
}
