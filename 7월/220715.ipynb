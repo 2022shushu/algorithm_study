{
 "cells": [
  {
   "cell_type": "code",
   "execution_count": 9,
   "id": "72b9de56-da17-4eb0-ba0c-3f9521b826e7",
   "metadata": {},
   "outputs": [],
   "source": [
    "#15596. 정수 N개의 합\n",
    "def solve(a) :\n",
    "    return sum(a)"
   ]
  }
 ],
 "metadata": {
  "kernelspec": {
   "display_name": "Python 3 (ipykernel)",
   "language": "python",
   "name": "python3"
  },
  "language_info": {
   "codemirror_mode": {
    "name": "ipython",
    "version": 3
   },
   "file_extension": ".py",
   "mimetype": "text/x-python",
   "name": "python",
   "nbconvert_exporter": "python",
   "pygments_lexer": "ipython3",
   "version": "3.9.12"
  }
 },
 "nbformat": 4,
 "nbformat_minor": 5
}
