{
 "cells": [
  {
   "cell_type": "code",
   "execution_count": 34,
   "id": "9c6eb242-88dd-4fad-aded-edee815f0f21",
   "metadata": {},
   "outputs": [
    {
     "name": "stdin",
     "output_type": "stream",
     "text": [
      " 2\n",
      " 3 hi\n"
     ]
    },
    {
     "name": "stdout",
     "output_type": "stream",
     "text": [
      "hhhiii\n"
     ]
    },
    {
     "name": "stdin",
     "output_type": "stream",
     "text": [
      " 4 hi\n"
     ]
    },
    {
     "name": "stdout",
     "output_type": "stream",
     "text": [
      "hhhhiiii\n"
     ]
    }
   ],
   "source": [
    "n = int(input())\n",
    "for i in range (n) :\n",
    "    a, b = input().split()\n",
    "    a = int(a)\n",
    "    text = \"\"\n",
    "    for j in b :\n",
    "        text = text + a * j\n",
    "    print(text)\n",
    "        \n"
   ]
  },
  {
   "cell_type": "code",
   "execution_count": null,
   "id": "b6a48409-5c74-4799-8f14-bf3d314bcc00",
   "metadata": {},
   "outputs": [],
   "source": []
  }
 ],
 "metadata": {
  "kernelspec": {
   "display_name": "Python 3 (ipykernel)",
   "language": "python",
   "name": "python3"
  },
  "language_info": {
   "codemirror_mode": {
    "name": "ipython",
    "version": 3
   },
   "file_extension": ".py",
   "mimetype": "text/x-python",
   "name": "python",
   "nbconvert_exporter": "python",
   "pygments_lexer": "ipython3",
   "version": "3.9.12"
  }
 },
 "nbformat": 4,
 "nbformat_minor": 5
}
