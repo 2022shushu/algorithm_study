{
 "cells": [
  {
   "cell_type": "code",
   "execution_count": 9,
   "id": "8ffa3f81-9a5f-47d3-b1b9-a8a26e1e594e",
   "metadata": {},
   "outputs": [
    {
     "name": "stdin",
     "output_type": "stream",
     "text": [
      " 2 3\n"
     ]
    },
    {
     "name": "stdout",
     "output_type": "stream",
     "text": [
      "<\n"
     ]
    }
   ],
   "source": [
    "#1330. 두 수 비교하기\n",
    "A, B = map(int, input().split())\n",
    "-10000 <= A, B <= 10000\n",
    "\n",
    "if A > B :\n",
    "    print(\">\")\n",
    "elif A < B :\n",
    "    print(\"<\")\n",
    "else :\n",
    "    print(\"==\")"
   ]
  },
  {
   "cell_type": "code",
   "execution_count": 11,
   "id": "5853ec4c-bf3c-402c-991f-9a387e30e923",
   "metadata": {},
   "outputs": [
    {
     "name": "stdin",
     "output_type": "stream",
     "text": [
      " 70\n"
     ]
    },
    {
     "name": "stdout",
     "output_type": "stream",
     "text": [
      "C\n"
     ]
    }
   ],
   "source": [
    "#9498. 시험 성적\n",
    "sco = int(input())\n",
    "\n",
    "if sco >= 90 :\n",
    "    print(\"A\")\n",
    "elif sco >= 80 :\n",
    "    print(\"B\")\n",
    "elif sco >= 70 :\n",
    "    print(\"C\")\n",
    "elif sco >= 60 :\n",
    "    print(\"D\")\n",
    "else :\n",
    "    print(\"F\")"
   ]
  },
  {
   "cell_type": "code",
   "execution_count": 20,
   "id": "2d91de06-846b-44e1-83cd-56bde059fa8a",
   "metadata": {},
   "outputs": [
    {
     "name": "stdin",
     "output_type": "stream",
     "text": [
      " 2000\n"
     ]
    },
    {
     "name": "stdout",
     "output_type": "stream",
     "text": [
      "1\n"
     ]
    }
   ],
   "source": [
    "#2753. 윤년\n",
    "year = int(input())\n",
    "1 <= year <= 4000\n",
    "if (year % 4 == 0) and ((year%100 != 0) or (year%400 == 0)) :\n",
    "    print(1)\n",
    "else :\n",
    "    print(0)"
   ]
  },
  {
   "cell_type": "code",
   "execution_count": 22,
   "id": "40300ed0-e2f3-4fe9-9309-524f66fe22ca",
   "metadata": {},
   "outputs": [
    {
     "name": "stdin",
     "output_type": "stream",
     "text": [
      " 2\n",
      " 3\n"
     ]
    },
    {
     "name": "stdout",
     "output_type": "stream",
     "text": [
      "1\n"
     ]
    }
   ],
   "source": [
    "#14681. 사분면 고르기\n",
    "x = int(input())\n",
    "y = int(input())\n",
    "-1000 <= x <= 1000\n",
    "-1000 <= y <= 1000\n",
    "\n",
    "if x > 0 and y > 0 :\n",
    "    print(1)\n",
    "elif x > 0 and y < 0 :\n",
    "    print(4)\n",
    "elif x < 0 and y > 0 :\n",
    "    print(2)\n",
    "else :\n",
    "    print(3)"
   ]
  },
  {
   "cell_type": "code",
   "execution_count": 67,
   "id": "4a15858e-efd2-4701-92b5-84ef2b4408f7",
   "metadata": {},
   "outputs": [
    {
     "name": "stdin",
     "output_type": "stream",
     "text": [
      " 20 30\n"
     ]
    },
    {
     "name": "stdout",
     "output_type": "stream",
     "text": [
      "19 45\n"
     ]
    }
   ],
   "source": [
    "#2884. 알람 시계\n",
    "H, M = map(int, input().split())\n",
    "\n",
    "if M > 44 :\n",
    "    print(H, M-45)\n",
    "    \n",
    "elif H > 0 and M < 45 :\n",
    "    print(H-1, M+15)\n",
    "\n",
    "else :\n",
    "    print(23, M+15)"
   ]
  },
  {
   "cell_type": "code",
   "execution_count": 76,
   "id": "a637200a-6415-41b9-913f-a81611a03a2c",
   "metadata": {},
   "outputs": [
    {
     "name": "stdin",
     "output_type": "stream",
     "text": [
      " 0 20\n",
      " 120\n"
     ]
    },
    {
     "name": "stdout",
     "output_type": "stream",
     "text": [
      "2 20\n"
     ]
    }
   ],
   "source": [
    "# 2525. 오븐 시계\n",
    "A, B = map(int, input().split())\n",
    "C = int(input())\n",
    "\n",
    "B += C\n",
    "A += (B//60)\n",
    "B %= 60\n",
    "\n",
    "if A > 23 :\n",
    "    A-= 24\n",
    "print(A, B)"
   ]
  },
  {
   "cell_type": "code",
   "execution_count": 86,
   "id": "6340a4e3-25ef-493a-8614-798b8c72917a",
   "metadata": {},
   "outputs": [
    {
     "name": "stdin",
     "output_type": "stream",
     "text": [
      " 2 3 1\n"
     ]
    },
    {
     "name": "stdout",
     "output_type": "stream",
     "text": [
      "300\n"
     ]
    }
   ],
   "source": [
    "#2480. 주사위 3개\n",
    "A, B, C = map(int, input().split())\n",
    "if A == B == C :\n",
    "    print(10000+(A*1000))\n",
    "elif A == B or B == C :\n",
    "    print(1000+(B*100))\n",
    "elif A == C :\n",
    "    print(1000+(C*100))\n",
    "else :\n",
    "    print(max(A, B, C) * 100)"
   ]
  }
 ],
 "metadata": {
  "kernelspec": {
   "display_name": "Python 3 (ipykernel)",
   "language": "python",
   "name": "python3"
  },
  "language_info": {
   "codemirror_mode": {
    "name": "ipython",
    "version": 3
   },
   "file_extension": ".py",
   "mimetype": "text/x-python",
   "name": "python",
   "nbconvert_exporter": "python",
   "pygments_lexer": "ipython3",
   "version": "3.9.12"
  }
 },
 "nbformat": 4,
 "nbformat_minor": 5
}
