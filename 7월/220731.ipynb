{
 "cells": [
  {
   "cell_type": "code",
   "execution_count": 7,
   "id": "ebb459ef-ef95-4d76-bc69-b940e09368e0",
   "metadata": {},
   "outputs": [
    {
     "name": "stdin",
     "output_type": "stream",
     "text": [
      " 3\n",
      " aabaa\n",
      " bbbba\n",
      " ab\n"
     ]
    },
    {
     "name": "stdout",
     "output_type": "stream",
     "text": [
      "2\n"
     ]
    }
   ],
   "source": [
    "N = int(input())\n",
    "cnt = N # 단어 총 갯수\n",
    "\n",
    "for i in range (N) : # 입력받은 횟수만큼\n",
    "    a = input() # 단어 입력\n",
    "    for i in range (len(a)-1) : # 입력받은 단어 갯수만큼\n",
    "        if a[i] == a[i+1] : # 뒤에 바로 나오는 요소와 같다면\n",
    "            pass # 넘기고\n",
    "        elif a[i] in a[i+1:] : # 뒤에 바로 나오는 요소와 같지 않은데, 뒤에 나오는 단어들 중에 있다면\n",
    "            cnt = cnt -1 # 그룹 단어가 아니므로 총 갯수에서 삭제하고\n",
    "            break # 확인 그만하기\n",
    "print(cnt)"
   ]
  }
 ],
 "metadata": {
  "kernelspec": {
   "display_name": "Python 3 (ipykernel)",
   "language": "python",
   "name": "python3"
  },
  "language_info": {
   "codemirror_mode": {
    "name": "ipython",
    "version": 3
   },
   "file_extension": ".py",
   "mimetype": "text/x-python",
   "name": "python",
   "nbconvert_exporter": "python",
   "pygments_lexer": "ipython3",
   "version": "3.9.12"
  }
 },
 "nbformat": 4,
 "nbformat_minor": 5
}
