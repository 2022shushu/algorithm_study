{
 "cells": [
  {
   "cell_type": "code",
   "execution_count": 48,
   "id": "55c0934d-0e39-4200-a3be-765ba0e002d8",
   "metadata": {},
   "outputs": [
    {
     "name": "stdin",
     "output_type": "stream",
     "text": [
      " 2\n"
     ]
    },
    {
     "name": "stdout",
     "output_type": "stream",
     "text": [
      "2 * 1 = 2\n",
      "2 * 2 = 4\n",
      "2 * 3 = 6\n",
      "2 * 4 = 8\n",
      "2 * 5 = 10\n",
      "2 * 6 = 12\n",
      "2 * 7 = 14\n",
      "2 * 8 = 16\n"
     ]
    }
   ],
   "source": [
    "n = int(input())\n",
    "for i in range(1, 9) :\n",
    "    print(n,  '*', i,  '=' , n*i)"
   ]
  },
  {
   "cell_type": "code",
   "execution_count": 49,
   "id": "41832883-5d05-40f5-8605-e12d20f84998",
   "metadata": {},
   "outputs": [
    {
     "name": "stdin",
     "output_type": "stream",
     "text": [
      " 2\n",
      " 1 2\n"
     ]
    },
    {
     "name": "stdout",
     "output_type": "stream",
     "text": [
      "3\n"
     ]
    },
    {
     "name": "stdin",
     "output_type": "stream",
     "text": [
      " 3 4\n"
     ]
    },
    {
     "name": "stdout",
     "output_type": "stream",
     "text": [
      "7\n"
     ]
    }
   ],
   "source": [
    "#10950. A+B -3\n",
    "T = int(input())\n",
    "for i in range (T) :\n",
    "    A, B = map(int, input().split())\n",
    "    print(A+B)"
   ]
  },
  {
   "cell_type": "code",
   "execution_count": 50,
   "id": "5bcdb46b-d939-4bb4-91fe-3762457c42f9",
   "metadata": {},
   "outputs": [
    {
     "name": "stdin",
     "output_type": "stream",
     "text": [
      " 1\n"
     ]
    },
    {
     "name": "stdout",
     "output_type": "stream",
     "text": [
      "1\n"
     ]
    }
   ],
   "source": [
    "#8393. 합\n",
    "n = int(input())\n",
    "sum = 0\n",
    "for i in range (n+1):\n",
    "    sum += i\n",
    "print(sum)"
   ]
  },
  {
   "cell_type": "code",
   "execution_count": 51,
   "id": "0ab03baa-ef76-42a5-8c40-d93e99d941a2",
   "metadata": {},
   "outputs": [
    {
     "name": "stdin",
     "output_type": "stream",
     "text": [
      " 3\n"
     ]
    },
    {
     "name": "stdout",
     "output_type": "stream",
     "text": [
      "1\n",
      "2\n",
      "3\n"
     ]
    }
   ],
   "source": [
    "#2741. N 찍기\n",
    "n=int(input())\n",
    "for i in range(n):\n",
    "    print(i+1)"
   ]
  },
  {
   "cell_type": "code",
   "execution_count": 52,
   "id": "0b797502-ac62-4b8b-9aea-c6f56a536ed0",
   "metadata": {},
   "outputs": [
    {
     "name": "stdin",
     "output_type": "stream",
     "text": [
      " 3\n"
     ]
    },
    {
     "name": "stdout",
     "output_type": "stream",
     "text": [
      "3\n",
      "2\n",
      "1\n"
     ]
    }
   ],
   "source": [
    "#2742. 기찍 N\n",
    "n=int(input())\n",
    "for i in range(n):\n",
    "    print(n-i)"
   ]
  },
  {
   "cell_type": "code",
   "execution_count": 53,
   "id": "e171afee-9977-4eee-a58a-eb9496df4a47",
   "metadata": {},
   "outputs": [
    {
     "name": "stdin",
     "output_type": "stream",
     "text": [
      " 3\n"
     ]
    },
    {
     "ename": "ValueError",
     "evalue": "not enough values to unpack (expected 2, got 0)",
     "output_type": "error",
     "traceback": [
      "\u001b[0;31m---------------------------------------------------------------------------\u001b[0m",
      "\u001b[0;31mValueError\u001b[0m                                Traceback (most recent call last)",
      "Input \u001b[0;32mIn [53]\u001b[0m, in \u001b[0;36m<cell line: 4>\u001b[0;34m()\u001b[0m\n\u001b[1;32m      3\u001b[0m T \u001b[38;5;241m=\u001b[39m \u001b[38;5;28mint\u001b[39m(\u001b[38;5;28minput\u001b[39m())\n\u001b[1;32m      4\u001b[0m \u001b[38;5;28;01mfor\u001b[39;00m i \u001b[38;5;129;01min\u001b[39;00m \u001b[38;5;28mrange\u001b[39m (T) :\n\u001b[0;32m----> 5\u001b[0m     A, B \u001b[38;5;241m=\u001b[39m \u001b[38;5;28mmap\u001b[39m(\u001b[38;5;28mint\u001b[39m, sys\u001b[38;5;241m.\u001b[39mstdin\u001b[38;5;241m.\u001b[39mreadline()\u001b[38;5;241m.\u001b[39msplit())\n\u001b[1;32m      6\u001b[0m     \u001b[38;5;28mprint\u001b[39m(A\u001b[38;5;241m+\u001b[39mB)\n",
      "\u001b[0;31mValueError\u001b[0m: not enough values to unpack (expected 2, got 0)"
     ]
    }
   ],
   "source": [
    "#15552. 빠른 A+B\n",
    "import sys\n",
    "T = int(input())\n",
    "for i in range (T) :\n",
    "    A, B = map(int, sys.stdin.readline().split())\n",
    "    print(A+B)"
   ]
  },
  {
   "cell_type": "code",
   "execution_count": 7,
   "id": "931e879d-f712-4712-8dfb-011326fbb7ae",
   "metadata": {},
   "outputs": [
    {
     "name": "stdin",
     "output_type": "stream",
     "text": [
      " 2\n",
      " 1 2\n"
     ]
    },
    {
     "name": "stdout",
     "output_type": "stream",
     "text": [
      "Case #1: 3\n"
     ]
    },
    {
     "name": "stdin",
     "output_type": "stream",
     "text": [
      " 3 4\n"
     ]
    },
    {
     "name": "stdout",
     "output_type": "stream",
     "text": [
      "Case #2: 7\n"
     ]
    }
   ],
   "source": [
    "#11021. A+B -7\n",
    "T = int(input())\n",
    "for i in range (1, T+1) :\n",
    "    A, B = map(int, input().split())\n",
    "    print(\"Case #\" + str(i) + \":\", A+B)"
   ]
  },
  {
   "cell_type": "code",
   "execution_count": 8,
   "id": "f325f6e2-b684-4729-b874-ff6a48318359",
   "metadata": {},
   "outputs": [
    {
     "name": "stdin",
     "output_type": "stream",
     "text": [
      " 1\n",
      " 2 3\n"
     ]
    },
    {
     "name": "stdout",
     "output_type": "stream",
     "text": [
      "Case #1: 2 + 3 = 5\n"
     ]
    }
   ],
   "source": [
    "#11022. A+B -8\n",
    "T = int(input())\n",
    "for i in range (1, T+1) :\n",
    "    A, B = map(int, input().split())\n",
    "    print(\"Case #\" + str(i) + \":\", A, \"+\", B, \"=\", A+B)"
   ]
  },
  {
   "cell_type": "code",
   "execution_count": 67,
   "id": "ef00db95-46e8-468f-a638-a2313c7bf41c",
   "metadata": {},
   "outputs": [
    {
     "name": "stdin",
     "output_type": "stream",
     "text": [
      " 5\n"
     ]
    },
    {
     "name": "stdout",
     "output_type": "stream",
     "text": [
      " *\n",
      " **\n",
      " ***\n",
      " ****\n",
      " *****\n"
     ]
    }
   ],
   "source": [
    "#2438. 별 찍기 -1\n",
    "T = int(input())\n",
    "sum = 0\n",
    "for i in range (T) :\n",
    "    sum += 1\n",
    "    print(\" \" + \"*\" * sum)"
   ]
  },
  {
   "cell_type": "code",
   "execution_count": 73,
   "id": "ace5e4d1-c2a5-4b00-bf18-55c420b388fa",
   "metadata": {},
   "outputs": [
    {
     "name": "stdin",
     "output_type": "stream",
     "text": [
      " 4\n"
     ]
    },
    {
     "name": "stdout",
     "output_type": "stream",
     "text": [
      "   *\n",
      "  **\n",
      " ***\n",
      "****\n"
     ]
    }
   ],
   "source": [
    "#2439. 별 찍기 -2\n",
    "T = int(input())\n",
    "for i in range(1, T+1):\n",
    "    print(' '*(T-i) + '*'*i)"
   ]
  },
  {
   "cell_type": "code",
   "execution_count": 79,
   "id": "0a281014-8edd-4ff8-888e-b461fff05c30",
   "metadata": {},
   "outputs": [
    {
     "name": "stdin",
     "output_type": "stream",
     "text": [
      " 10 2\n",
      " 1 2 3 4 5 6 7 8 9 10\n"
     ]
    },
    {
     "name": "stdout",
     "output_type": "stream",
     "text": [
      "1 "
     ]
    }
   ],
   "source": [
    "## 10871. X보다 작은 수\n",
    "N, X = map(int, input().split())\n",
    "A = list(map(int, input().split()))\n",
    "for i in range(N):\n",
    "    if A[i] < X:\n",
    "        print(A[i], end=\" \")"
   ]
  },
  {
   "cell_type": "code",
   "execution_count": 25,
   "id": "8de8931f-05f9-4663-bd26-9f900f74fe3a",
   "metadata": {},
   "outputs": [
    {
     "name": "stdin",
     "output_type": "stream",
     "text": [
      " 2 3\n"
     ]
    },
    {
     "name": "stdout",
     "output_type": "stream",
     "text": [
      "5\n"
     ]
    },
    {
     "name": "stdin",
     "output_type": "stream",
     "text": [
      " 0 0\n"
     ]
    }
   ],
   "source": [
    "#10952. A+B -5\n",
    "while True :\n",
    "    A, B = map(int, input().split())\n",
    "    if A+B == 0 :\n",
    "        break\n",
    "    print(A+B)"
   ]
  },
  {
   "cell_type": "code",
   "execution_count": 27,
   "id": "7f4223a4-f0ff-4941-8648-aefe3df545b8",
   "metadata": {},
   "outputs": [
    {
     "name": "stdin",
     "output_type": "stream",
     "text": [
      " 2 3\n"
     ]
    },
    {
     "name": "stdout",
     "output_type": "stream",
     "text": [
      "5\n"
     ]
    },
    {
     "name": "stdin",
     "output_type": "stream",
     "text": [
      " .\n"
     ]
    }
   ],
   "source": [
    "#10951. A+B -4\n",
    "while True :\n",
    "    try :\n",
    "        A, B = map(int, input().split())\n",
    "        print(A+B)\n",
    "    except :\n",
    "        break"
   ]
  },
  {
   "cell_type": "code",
   "execution_count": null,
   "id": "0cc0342d-5206-4695-bcb8-9ff983ece133",
   "metadata": {},
   "outputs": [],
   "source": [
    "#1110. 더하기 사이클\n",
    "n = int(input())\n",
    "num = n\n",
    "cnt = 0\n",
    "\n",
    "\n",
    "while True :\n",
    "    a = num // 10\n",
    "    b = num % 10\n",
    "    c = (a+b) % 10\n",
    "    num = (b * 10) + c\n",
    "    \n",
    "    cnt = cnt +1\n",
    "    \n",
    "    if (num == n) :\n",
    "        break\n",
    "        \n",
    "print(cnt)"
   ]
  }
 ],
 "metadata": {
  "kernelspec": {
   "display_name": "Python 3 (ipykernel)",
   "language": "python",
   "name": "python3"
  },
  "language_info": {
   "codemirror_mode": {
    "name": "ipython",
    "version": 3
   },
   "file_extension": ".py",
   "mimetype": "text/x-python",
   "name": "python",
   "nbconvert_exporter": "python",
   "pygments_lexer": "ipython3",
   "version": "3.9.12"
  }
 },
 "nbformat": 4,
 "nbformat_minor": 5
}
