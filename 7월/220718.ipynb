{
 "cells": [
  {
   "cell_type": "code",
   "execution_count": 40,
   "id": "af33fef4-63c8-4e2a-9c95-730983c358e8",
   "metadata": {},
   "outputs": [
    {
     "name": "stdin",
     "output_type": "stream",
     "text": [
      " 2\n",
      " 22\n"
     ]
    },
    {
     "name": "stdout",
     "output_type": "stream",
     "text": [
      "4\n"
     ]
    }
   ],
   "source": [
    "#11720 숫자의 합\n",
    "n = int(input())\n",
    "number = input()\n",
    "a = list(map(int, number))\n",
    "an = 0\n",
    "\n",
    "for i in range(n) :\n",
    "    an = an+a[i]\n",
    "\n",
    "print(an)"
   ]
  }
 ],
 "metadata": {
  "kernelspec": {
   "display_name": "Python 3 (ipykernel)",
   "language": "python",
   "name": "python3"
  },
  "language_info": {
   "codemirror_mode": {
    "name": "ipython",
    "version": 3
   },
   "file_extension": ".py",
   "mimetype": "text/x-python",
   "name": "python",
   "nbconvert_exporter": "python",
   "pygments_lexer": "ipython3",
   "version": "3.9.12"
  }
 },
 "nbformat": 4,
 "nbformat_minor": 5
}
