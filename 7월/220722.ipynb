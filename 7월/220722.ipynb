{
 "cells": [
  {
   "cell_type": "code",
   "execution_count": 30,
   "id": "1ddb3add-12b2-4ef1-b9e4-533e3388a385",
   "metadata": {},
   "outputs": [
    {
     "name": "stdin",
     "output_type": "stream",
     "text": [
      " 3 16\n"
     ]
    },
    {
     "name": "stdout",
     "output_type": "stream",
     "text": [
      "3\n",
      "5\n",
      "7\n",
      "11\n",
      "13\n"
     ]
    }
   ],
   "source": [
    "def realsosu(num):\n",
    "    if num==1:\n",
    "        return False\n",
    "    else:\n",
    "        for i in range(2, int(num**0.5)+1):\n",
    "            if num%i == 0:\n",
    "                return False\n",
    "        return True\n",
    "\n",
    "M, N = map(int, input().split())\n",
    "\n",
    "for i in range(M, N+1):\n",
    "    if realsosu(i):\n",
    "        print(i)"
   ]
  },
  {
   "cell_type": "code",
   "execution_count": null,
   "id": "cd22defb-aa1f-465a-aac5-3f83bea879ea",
   "metadata": {},
   "outputs": [],
   "source": [
    "m, n = map(int, input().split())\n",
    "m_list = [] # 사이 수 담는 리스트\n",
    "y_list = [] # 사이 수의 약수 개수 담는 리스트\n",
    "\n",
    "# 사이 수 반복문 돌려서 담기\n",
    "for i in range (m, n+1) :\n",
    "  m_list.append(i)\n",
    "\n",
    "# 약수 개수 함수 정의\n",
    "def weneed(rn) :\n",
    "    count = 0\n",
    "    for i in range (1, rn+1) :\n",
    "        if rn == i :\n",
    "            count = count + 1\n",
    "        elif rn % i == 0 :\n",
    "            count = count + 1\n",
    "    return count\n",
    "                \n",
    "# 사이 수의 각각 약수 개수 담기\n",
    "for j in range (m, n+1) :\n",
    "    y_list.append(weneed(j))\n",
    "\n",
    "# 최종 소수 리스트 출력\n",
    "for i in range (0, len(m_list)) :\n",
    "    if y_list[i] == 2 :\n",
    "        print(m_list[i])"
   ]
  }
 ],
 "metadata": {
  "kernelspec": {
   "display_name": "Python 3 (ipykernel)",
   "language": "python",
   "name": "python3"
  },
  "language_info": {
   "codemirror_mode": {
    "name": "ipython",
    "version": 3
   },
   "file_extension": ".py",
   "mimetype": "text/x-python",
   "name": "python",
   "nbconvert_exporter": "python",
   "pygments_lexer": "ipython3",
   "version": "3.9.12"
  }
 },
 "nbformat": 4,
 "nbformat_minor": 5
}
