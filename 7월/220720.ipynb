{
 "cells": [
  {
   "cell_type": "code",
   "execution_count": 32,
   "id": "c4377442-6efb-4522-ae30-b230a939672f",
   "metadata": {},
   "outputs": [
    {
     "name": "stdin",
     "output_type": "stream",
     "text": [
      " love \n"
     ]
    },
    {
     "name": "stdout",
     "output_type": "stream",
     "text": [
      "1\n"
     ]
    }
   ],
   "source": [
    "hello = input()\n",
    "if (hello.startswith(\" \") == True) and (hello.endswith(\" \") == True) :\n",
    "    print(hello.count(\" \")-1)\n",
    "elif hello.startswith(\" \") == True :\n",
    "    print(hello.count(\" \"))\n",
    "elif hello.endswith(\" \") == True :\n",
    "    print(hello.count(\" \"))\n",
    "else :\n",
    "    print(hello.count(\" \")+1)"
   ]
  },
  {
   "cell_type": "code",
   "execution_count": 28,
   "id": "af8f03cc-fa1a-4175-b2c4-76f4d98e6a14",
   "metadata": {},
   "outputs": [
    {
     "name": "stdin",
     "output_type": "stream",
     "text": [
      "  2 \n"
     ]
    },
    {
     "name": "stdout",
     "output_type": "stream",
     "text": [
      "1\n"
     ]
    }
   ],
   "source": [
    "hello = input()\n",
    "if (hello.startswith(\" \") == True) and (hello.endswith(\" \") == True) :\n",
    "    print(hello.count(\" \")-1)"
   ]
  },
  {
   "cell_type": "code",
   "execution_count": null,
   "id": "aa3e06ad-3c91-4334-8508-d70882128b98",
   "metadata": {},
   "outputs": [],
   "source": []
  }
 ],
 "metadata": {
  "kernelspec": {
   "display_name": "Python 3 (ipykernel)",
   "language": "python",
   "name": "python3"
  },
  "language_info": {
   "codemirror_mode": {
    "name": "ipython",
    "version": 3
   },
   "file_extension": ".py",
   "mimetype": "text/x-python",
   "name": "python",
   "nbconvert_exporter": "python",
   "pygments_lexer": "ipython3",
   "version": "3.9.12"
  }
 },
 "nbformat": 4,
 "nbformat_minor": 5
}
