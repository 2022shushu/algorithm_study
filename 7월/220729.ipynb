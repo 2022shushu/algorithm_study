{
 "cells": [
  {
   "cell_type": "code",
   "execution_count": 10,
   "id": "e9a99846-bf14-4315-88ca-93e193cb6a14",
   "metadata": {},
   "outputs": [
    {
     "name": "stdin",
     "output_type": "stream",
     "text": [
      " Hello\n"
     ]
    },
    {
     "name": "stdout",
     "output_type": "stream",
     "text": [
      "[1, 2, 1, 1]\n",
      "['E', 'L', 'H', 'O']\n",
      "L\n"
     ]
    }
   ],
   "source": [
    "n = input().upper()\n",
    "nset = list(set(n)) #중복값 제거\n",
    "cnt = []\n",
    "\n",
    "for i in nset :\n",
    "    cnt.append(n.count(i)) # 입력된 문자 요소 갯수 세는 리스트 추가\n",
    "\n",
    "if cnt.count(max(cnt)) > 1 :\n",
    "    print(\"?\") # 최댓값이 2개 이상이면 ?\n",
    "else :\n",
    "    print(nset[cnt.index(max(cnt))]) # 가장 많은 요소 출력"
   ]
  }
 ],
 "metadata": {
  "kernelspec": {
   "display_name": "Python 3 (ipykernel)",
   "language": "python",
   "name": "python3"
  },
  "language_info": {
   "codemirror_mode": {
    "name": "ipython",
    "version": 3
   },
   "file_extension": ".py",
   "mimetype": "text/x-python",
   "name": "python",
   "nbconvert_exporter": "python",
   "pygments_lexer": "ipython3",
   "version": "3.9.12"
  }
 },
 "nbformat": 4,
 "nbformat_minor": 5
}
