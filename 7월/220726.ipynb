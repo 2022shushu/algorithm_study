{
 "cells": [
  {
   "cell_type": "code",
   "execution_count": 1,
   "id": "1c664eca-cfe1-43ae-8136-133ab093bfbd",
   "metadata": {},
   "outputs": [
    {
     "name": "stdin",
     "output_type": "stream",
     "text": [
      " 2 3\n"
     ]
    },
    {
     "name": "stdout",
     "output_type": "stream",
     "text": [
      "neither\n"
     ]
    },
    {
     "name": "stdin",
     "output_type": "stream",
     "text": [
      " 4 8\n"
     ]
    },
    {
     "name": "stdout",
     "output_type": "stream",
     "text": [
      "factor\n"
     ]
    },
    {
     "name": "stdin",
     "output_type": "stream",
     "text": [
      " 0 0\n"
     ]
    }
   ],
   "source": [
    "# 5086. 배수와 약수\n",
    "while True :\n",
    "  a, b = map(int, input().split())\n",
    "  if a == 0 and b == 0 :\n",
    "    break\n",
    "  \n",
    "  if b % a == 0 :\n",
    "    print(\"factor\")\n",
    "  elif a % b == 0 :\n",
    "    print(\"multiple\")\n",
    "  else :\n",
    "    print(\"neither\")"
   ]
  },
  {
   "cell_type": "code",
   "execution_count": 5,
   "id": "e4c65a28-9ef3-4a0f-b345-973268fefa1d",
   "metadata": {},
   "outputs": [
    {
     "name": "stdin",
     "output_type": "stream",
     "text": [
      " 100\n"
     ]
    },
    {
     "name": "stdout",
     "output_type": "stream",
     "text": [
      "2\n",
      "2\n",
      "5\n",
      "5\n"
     ]
    }
   ],
   "source": [
    "# 11653. 소인수분해\n",
    "N = int(input())\n",
    "def weneedsoinsu (x) :\n",
    "    d = 2\n",
    "    while d <= x :\n",
    "        if x % d == 0 :\n",
    "            print(d)\n",
    "            x = x / d\n",
    "        else :\n",
    "            d = d + 1\n",
    "weneedsoinsu(N)"
   ]
  },
  {
   "cell_type": "code",
   "execution_count": null,
   "id": "5fd67a2a-5a4c-48a2-b827-9d94cac34f47",
   "metadata": {},
   "outputs": [],
   "source": []
  }
 ],
 "metadata": {
  "kernelspec": {
   "display_name": "Python 3 (ipykernel)",
   "language": "python",
   "name": "python3"
  },
  "language_info": {
   "codemirror_mode": {
    "name": "ipython",
    "version": 3
   },
   "file_extension": ".py",
   "mimetype": "text/x-python",
   "name": "python",
   "nbconvert_exporter": "python",
   "pygments_lexer": "ipython3",
   "version": "3.9.12"
  }
 },
 "nbformat": 4,
 "nbformat_minor": 5
}
