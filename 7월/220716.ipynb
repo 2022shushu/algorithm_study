{
 "cells": [
  {
   "cell_type": "code",
   "execution_count": 34,
   "id": "4a778b97-68d4-4f68-b270-20281dddee14",
   "metadata": {},
   "outputs": [
    {
     "name": "stdin",
     "output_type": "stream",
     "text": [
      " 1000\n"
     ]
    },
    {
     "name": "stdout",
     "output_type": "stream",
     "text": [
      "144\n"
     ]
    }
   ],
   "source": [
    "#1065. 한수\n",
    "\n",
    "n = int(input())\n",
    "\n",
    "\n",
    "def han(num) :\n",
    "    c = 0 # 한수 횟수 초기화\n",
    "    # 99까지는 모두 한수\n",
    "    for i in range (1, num+1) :\n",
    "        if i < 100 :\n",
    "            c = c + 1\n",
    "        # 100 이상부터는 리스트로 바꿔서 각 배열의 자릿수 확인    \n",
    "        else :\n",
    "            lnum = list(map(int, str(i)))\n",
    "            if lnum[0] - lnum[1] == lnum[1] - lnum[2] :\n",
    "                c = c + 1\n",
    "    print(c)\n",
    "    \n",
    "\n",
    "han(n)"
   ]
  }
 ],
 "metadata": {
  "kernelspec": {
   "display_name": "Python 3 (ipykernel)",
   "language": "python",
   "name": "python3"
  },
  "language_info": {
   "codemirror_mode": {
    "name": "ipython",
    "version": 3
   },
   "file_extension": ".py",
   "mimetype": "text/x-python",
   "name": "python",
   "nbconvert_exporter": "python",
   "pygments_lexer": "ipython3",
   "version": "3.9.12"
  }
 },
 "nbformat": 4,
 "nbformat_minor": 5
}
