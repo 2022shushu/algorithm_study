{
 "cells": [
  {
   "cell_type": "code",
   "execution_count": 17,
   "id": "e1c39347-66ca-4f83-a519-016cb648a7ef",
   "metadata": {},
   "outputs": [
    {
     "name": "stdin",
     "output_type": "stream",
     "text": [
      " 5\n",
      " 20 3 8 9 10\n"
     ]
    },
    {
     "name": "stdout",
     "output_type": "stream",
     "text": [
      "3 20\n"
     ]
    }
   ],
   "source": [
    "#10818. 최소, 최대\n",
    "N = int(input())\n",
    "L = list(map(int, input().split()))\n",
    "L.sort(reverse=True)\n",
    "print(L[N-1], L[0])"
   ]
  },
  {
   "cell_type": "code",
   "execution_count": 27,
   "id": "e6aab019-5164-400c-90a3-ed5842091669",
   "metadata": {},
   "outputs": [
    {
     "name": "stdin",
     "output_type": "stream",
     "text": [
      " 1\n",
      " 2\n",
      " 3\n",
      " 4\n",
      " 5\n",
      " 6\n",
      " 7\n",
      " 8\n",
      " 9\n"
     ]
    },
    {
     "name": "stdout",
     "output_type": "stream",
     "text": [
      "9\n",
      "9\n"
     ]
    }
   ],
   "source": [
    "#2562. 최댓값\n",
    "a1 = int(input())\n",
    "a2 = int(input())\n",
    "a3 = int(input())\n",
    "a4 = int(input())\n",
    "a5 = int(input())\n",
    "a6 = int(input())\n",
    "a7 = int(input())\n",
    "a8 = int(input())\n",
    "a9 = int(input())\n",
    "a = [a1, a2, a3, a4, a5, a6, a7, a8, a9]\n",
    "b = max(a)\n",
    "print(b)\n",
    "print(a.index(b)+1)"
   ]
  },
  {
   "cell_type": "code",
   "execution_count": 50,
   "id": "7c390e18-beef-494e-bc5a-38c23741b331",
   "metadata": {},
   "outputs": [
    {
     "name": "stdin",
     "output_type": "stream",
     "text": [
      " 150\n",
      " 266\n",
      " 427\n"
     ]
    },
    {
     "name": "stdout",
     "output_type": "stream",
     "text": [
      "3\n",
      "1\n",
      "0\n",
      "2\n",
      "0\n",
      "0\n",
      "0\n",
      "2\n",
      "0\n",
      "0\n"
     ]
    }
   ],
   "source": [
    "## 2577. 숫자의 개수\n",
    "A = int(input())\n",
    "B = int(input())\n",
    "C = int(input())\n",
    "S = A*B*C\n",
    "SL = list(map(int, str(S)))\n",
    "for i in range(10):\n",
    "    print(SL.count(i))\n",
    "    i += 1"
   ]
  },
  {
   "cell_type": "code",
   "execution_count": 68,
   "id": "8b964530-93ad-4907-a1eb-c1453f7359ed",
   "metadata": {},
   "outputs": [
    {
     "name": "stdin",
     "output_type": "stream",
     "text": [
      " 1\n",
      " 1\n",
      " 1\n",
      " 1\n",
      " 1\n",
      " 1\n",
      " 1\n",
      " 1\n",
      " 1\n",
      " 1\n"
     ]
    },
    {
     "name": "stdout",
     "output_type": "stream",
     "text": [
      "1\n"
     ]
    }
   ],
   "source": [
    "# 3052. 나머지\n",
    "#수 10개 입력받고 리스트로 만들기\n",
    "nl = []\n",
    "for i in range(10) :\n",
    "    a = int(input())\n",
    "    nl.append(a)\n",
    "\n",
    "#리스트로 만든 것 42로 나누기\n",
    "b1 = []\n",
    "for i in range (10) :\n",
    "    b = nl[i] %42\n",
    "    b1.append(b)\n",
    "\n",
    "#중복요소 제거\n",
    "b2 = set(b1)\n",
    "print(len(b2))"
   ]
  },
  {
   "cell_type": "code",
   "execution_count": null,
   "id": "ecd1e461-34f5-4146-babf-77639017a70b",
   "metadata": {},
   "outputs": [
    {
     "name": "stdin",
     "output_type": "stream",
     "text": [
      " 3\n",
      " 10 20 30\n"
     ]
    },
    {
     "name": "stdout",
     "output_type": "stream",
     "text": [
      "66.66666666666667\n"
     ]
    }
   ],
   "source": [
    "#1546. 평균\n",
    "N = int(input())\n",
    "A = list(map(int, input().split()))\n",
    "M = max(A)\n",
    "SUM = 0\n",
    "\n",
    "for i in range(N) :\n",
    "    X = A[i] / (M*100)\n",
    "    SUM = SUM + X\n",
    "    \n",
    "print((SUM /N )*10000)"
   ]
  },
  {
   "cell_type": "code",
   "execution_count": null,
   "id": "a901cafd-daa6-40bd-b1d8-8c3037cb94db",
   "metadata": {},
   "outputs": [
    {
     "name": "stdin",
     "output_type": "stream",
     "text": [
      " 2\n",
      " OX\n",
      " XX\n"
     ]
    },
    {
     "name": "stdout",
     "output_type": "stream",
     "text": [
      "0\n"
     ]
    }
   ],
   "source": [
    "#8958 OX퀴즈\n",
    "n = int(input())\n",
    "\n",
    "for i in range(n) :\n",
    "    a = list(input())\n",
    "    su = 0\n",
    "    peo = 1\n",
    "    for i in a :\n",
    "        if i == 'O' :\n",
    "            su += peo\n",
    "            peo += 1\n",
    "        else :\n",
    "            peo = 1\n",
    "    print(su)\n",
    "\n"
   ]
  },
  {
   "cell_type": "code",
   "execution_count": 110,
   "id": "8d9c6acb-e2ac-4dd6-a758-6b658200271c",
   "metadata": {},
   "outputs": [
    {
     "name": "stdin",
     "output_type": "stream",
     "text": [
      " 1\n",
      " 3 10 50 20\n"
     ]
    },
    {
     "ename": "TypeError",
     "evalue": "'int' object is not callable",
     "output_type": "error",
     "traceback": [
      "\u001b[1;31m---------------------------------------------------------------------------\u001b[0m",
      "\u001b[1;31mTypeError\u001b[0m                                 Traceback (most recent call last)",
      "Input \u001b[1;32mIn [110]\u001b[0m, in \u001b[0;36m<cell line: 3>\u001b[1;34m()\u001b[0m\n\u001b[0;32m      3\u001b[0m \u001b[38;5;28;01mfor\u001b[39;00m _ \u001b[38;5;129;01min\u001b[39;00m \u001b[38;5;28mrange\u001b[39m(n):\n\u001b[0;32m      4\u001b[0m     nums \u001b[38;5;241m=\u001b[39m \u001b[38;5;28mlist\u001b[39m(\u001b[38;5;28mmap\u001b[39m(\u001b[38;5;28mint\u001b[39m, \u001b[38;5;28minput\u001b[39m()\u001b[38;5;241m.\u001b[39msplit()))\n\u001b[1;32m----> 5\u001b[0m     avg \u001b[38;5;241m=\u001b[39m \u001b[38;5;28;43msum\u001b[39;49m\u001b[43m(\u001b[49m\u001b[43mnums\u001b[49m\u001b[43m[\u001b[49m\u001b[38;5;241;43m1\u001b[39;49m\u001b[43m:\u001b[49m\u001b[43m]\u001b[49m\u001b[43m)\u001b[49m\u001b[38;5;241m/\u001b[39mnums[\u001b[38;5;241m0\u001b[39m]  \u001b[38;5;66;03m# 평균을 구함 (nums[0]: 학생수, nums[1:] 점수)\u001b[39;00m\n\u001b[0;32m      6\u001b[0m     cnt \u001b[38;5;241m=\u001b[39m \u001b[38;5;241m0\u001b[39m\n\u001b[0;32m      7\u001b[0m     \u001b[38;5;28;01mfor\u001b[39;00m score \u001b[38;5;129;01min\u001b[39;00m nums[\u001b[38;5;241m1\u001b[39m:]:\n",
      "\u001b[1;31mTypeError\u001b[0m: 'int' object is not callable"
     ]
    }
   ],
   "source": [
    "n = int(input())\n",
    "\n",
    "for _ in range(n):\n",
    "    nums = list(map(int, input().split()))\n",
    "    avg = sum(nums[1:])/nums[0]  # 평균을 구함 (nums[0]: 학생수, nums[1:] 점수)\n",
    "    cnt = 0\n",
    "    for score in nums[1:]:\n",
    "        if score > avg:\n",
    "            cnt += 1  # 평균 이상인 학생 수\n",
    "    rate = cnt/nums[0] *100\n",
    "    print(f'{rate:.3f}%')"
   ]
  },
  {
   "cell_type": "code",
   "execution_count": null,
   "id": "8f64097a-180c-4ed4-9f2d-a5d496e2ce8d",
   "metadata": {},
   "outputs": [],
   "source": []
  }
 ],
 "metadata": {
  "kernelspec": {
   "display_name": "Python 3 (ipykernel)",
   "language": "python",
   "name": "python3"
  },
  "language_info": {
   "codemirror_mode": {
    "name": "ipython",
    "version": 3
   },
   "file_extension": ".py",
   "mimetype": "text/x-python",
   "name": "python",
   "nbconvert_exporter": "python",
   "pygments_lexer": "ipython3",
   "version": "3.9.12"
  }
 },
 "nbformat": 4,
 "nbformat_minor": 5
}
