{
 "cells": [
  {
   "cell_type": "code",
   "execution_count": 5,
   "id": "77ff90fa-1e16-4bd2-a3d1-4aab28a4bfde",
   "metadata": {},
   "outputs": [
    {
     "name": "stdin",
     "output_type": "stream",
     "text": [
      " 5\n",
      " 5\n",
      " 4\n",
      " 3\n",
      " 2\n",
      " 1\n"
     ]
    },
    {
     "name": "stdout",
     "output_type": "stream",
     "text": [
      "1\n",
      "2\n",
      "3\n",
      "4\n",
      "5\n"
     ]
    }
   ],
   "source": [
    "import sys\n",
    "n = int(sys.stdin.readline())\n",
    "x = []\n",
    "for i in range (n) :\n",
    "    a = int(sys.stdin.readline())\n",
    "    x.append(a)\n",
    "\n",
    "x.sort()\n",
    "\n",
    "for i in range (n) :\n",
    "    print(x[i])\n",
    "    \n",
    "\n",
    "import sys\n",
    "n = int(input())\n",
    "l = []\n",
    "for i in range(n):\n",
    "    l.append(int(sys.stdin.readline()))\n",
    "for i in sorted(l):\n",
    "    sys.stdout.write(str(i)+'\\n')"
   ]
  },
  {
   "cell_type": "code",
   "execution_count": null,
   "id": "b5552c21-0d1c-416b-b393-aeb0bcd718a5",
   "metadata": {},
   "outputs": [],
   "source": []
  }
 ],
 "metadata": {
  "kernelspec": {
   "display_name": "Python 3 (ipykernel)",
   "language": "python",
   "name": "python3"
  },
  "language_info": {
   "codemirror_mode": {
    "name": "ipython",
    "version": 3
   },
   "file_extension": ".py",
   "mimetype": "text/x-python",
   "name": "python",
   "nbconvert_exporter": "python",
   "pygments_lexer": "ipython3",
   "version": "3.9.12"
  }
 },
 "nbformat": 4,
 "nbformat_minor": 5
}
