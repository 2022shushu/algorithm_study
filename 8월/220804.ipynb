{
 "cells": [
  {
   "cell_type": "code",
   "execution_count": 17,
   "id": "60fac967-8d8d-4413-b51a-edcf14019f27",
   "metadata": {},
   "outputs": [
    {
     "name": "stdin",
     "output_type": "stream",
     "text": [
      " 5 2\n"
     ]
    },
    {
     "name": "stdout",
     "output_type": "stream",
     "text": [
      "10\n"
     ]
    }
   ],
   "source": [
    "n, k = map(int, input().split())\n",
    "\n",
    "x = 1\n",
    "t = 1\n",
    "z = 1\n",
    "\n",
    "if k > n :\n",
    "    print(0)\n",
    "\n",
    "else :\n",
    "    for i in range (1, n+1) :\n",
    "        x = x * i\n",
    "    for i in range (1, k+1) :\n",
    "        t = t * i\n",
    "    for i in range (1, n-k+1) :\n",
    "        z = z * i\n",
    "    \n",
    "    s = round(x / (t * z))\n",
    "    print(s)"
   ]
  },
  {
   "cell_type": "code",
   "execution_count": null,
   "id": "0abc7473-1812-4cda-8214-74accf637f3a",
   "metadata": {},
   "outputs": [],
   "source": []
  }
 ],
 "metadata": {
  "kernelspec": {
   "display_name": "Python 3 (ipykernel)",
   "language": "python",
   "name": "python3"
  },
  "language_info": {
   "codemirror_mode": {
    "name": "ipython",
    "version": 3
   },
   "file_extension": ".py",
   "mimetype": "text/x-python",
   "name": "python",
   "nbconvert_exporter": "python",
   "pygments_lexer": "ipython3",
   "version": "3.9.12"
  }
 },
 "nbformat": 4,
 "nbformat_minor": 5
}
