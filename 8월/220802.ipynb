{
 "cells": [
  {
   "cell_type": "code",
   "execution_count": 11,
   "id": "3e39e6c7-199a-42e7-82df-8757e1035afe",
   "metadata": {},
   "outputs": [
    {
     "name": "stdin",
     "output_type": "stream",
     "text": [
      " 3 2\n",
      " 1 2 6\n",
      " 1 7\n"
     ]
    },
    {
     "name": "stdout",
     "output_type": "stream",
     "text": [
      "3\n"
     ]
    }
   ],
   "source": [
    "a, b = map(int, input().split())\n",
    "alist = set(map(int, input().split()))\n",
    "blist = set(map(int, input().split()))\n",
    "\n",
    "print(len(alist-blist) + len(blist-alist))"
   ]
  },
  {
   "cell_type": "code",
   "execution_count": null,
   "id": "29549e3d-75c5-4276-b907-4d4bbc5ab4d8",
   "metadata": {},
   "outputs": [],
   "source": []
  }
 ],
 "metadata": {
  "kernelspec": {
   "display_name": "Python 3 (ipykernel)",
   "language": "python",
   "name": "python3"
  },
  "language_info": {
   "codemirror_mode": {
    "name": "ipython",
    "version": 3
   },
   "file_extension": ".py",
   "mimetype": "text/x-python",
   "name": "python",
   "nbconvert_exporter": "python",
   "pygments_lexer": "ipython3",
   "version": "3.9.12"
  }
 },
 "nbformat": 4,
 "nbformat_minor": 5
}
